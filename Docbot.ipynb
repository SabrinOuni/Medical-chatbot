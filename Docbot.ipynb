{
  "nbformat": 4,
  "nbformat_minor": 0,
  "metadata": {
    "colab": {
      "name": "Docbot.ipynb",
      "provenance": [],
      "collapsed_sections": []
    },
    "kernelspec": {
      "name": "python3",
      "display_name": "Python 3"
    }
  },
  "cells": [
    {
      "cell_type": "code",
      "metadata": {
        "id": "141XYd70T5eY"
      },
      "source": [
        "#'self learning' chatbot program"
      ],
      "execution_count": null,
      "outputs": []
    },
    {
      "cell_type": "code",
      "metadata": {
        "id": "djBthowRUnND",
        "outputId": "b5ab5f80-87d6-4d81-8c59-2dd216f736e8",
        "colab": {
          "base_uri": "https://localhost:8080/"
        }
      },
      "source": [
        "#Install the packege NLTK\n",
        "!pip install nltk\n"
      ],
      "execution_count": null,
      "outputs": [
        {
          "output_type": "stream",
          "name": "stdout",
          "text": [
            "Requirement already satisfied: nltk in /usr/local/lib/python3.7/dist-packages (3.2.5)\n",
            "Requirement already satisfied: six in /usr/local/lib/python3.7/dist-packages (from nltk) (1.15.0)\n"
          ]
        }
      ]
    },
    {
      "cell_type": "code",
      "metadata": {
        "id": "vGsJcMziVbCW",
        "colab": {
          "base_uri": "https://localhost:8080/"
        },
        "outputId": "c262a4d4-49ab-4ba8-91cc-a7f75b90d4bb"
      },
      "source": [
        "#Install the packege newspaper3k\n",
        "!pip install newspaper3k"
      ],
      "execution_count": null,
      "outputs": [
        {
          "output_type": "stream",
          "name": "stdout",
          "text": [
            "Collecting newspaper3k\n",
            "  Downloading newspaper3k-0.2.8-py3-none-any.whl (211 kB)\n",
            "\u001b[K     |████████████████████████████████| 211 kB 5.0 MB/s \n",
            "\u001b[?25hCollecting jieba3k>=0.35.1\n",
            "  Downloading jieba3k-0.35.1.zip (7.4 MB)\n",
            "\u001b[K     |████████████████████████████████| 7.4 MB 29.4 MB/s \n",
            "\u001b[?25hRequirement already satisfied: Pillow>=3.3.0 in /usr/local/lib/python3.7/dist-packages (from newspaper3k) (7.1.2)\n",
            "Requirement already satisfied: nltk>=3.2.1 in /usr/local/lib/python3.7/dist-packages (from newspaper3k) (3.2.5)\n",
            "Requirement already satisfied: requests>=2.10.0 in /usr/local/lib/python3.7/dist-packages (from newspaper3k) (2.23.0)\n",
            "Requirement already satisfied: beautifulsoup4>=4.4.1 in /usr/local/lib/python3.7/dist-packages (from newspaper3k) (4.6.3)\n",
            "Collecting tldextract>=2.0.1\n",
            "  Downloading tldextract-3.2.0-py3-none-any.whl (87 kB)\n",
            "\u001b[K     |████████████████████████████████| 87 kB 6.4 MB/s \n",
            "\u001b[?25hRequirement already satisfied: PyYAML>=3.11 in /usr/local/lib/python3.7/dist-packages (from newspaper3k) (3.13)\n",
            "Collecting tinysegmenter==0.3\n",
            "  Downloading tinysegmenter-0.3.tar.gz (16 kB)\n",
            "Requirement already satisfied: lxml>=3.6.0 in /usr/local/lib/python3.7/dist-packages (from newspaper3k) (4.2.6)\n",
            "Collecting feedfinder2>=0.0.4\n",
            "  Downloading feedfinder2-0.0.4.tar.gz (3.3 kB)\n",
            "Requirement already satisfied: python-dateutil>=2.5.3 in /usr/local/lib/python3.7/dist-packages (from newspaper3k) (2.8.2)\n",
            "Collecting feedparser>=5.2.1\n",
            "  Downloading feedparser-6.0.8-py3-none-any.whl (81 kB)\n",
            "\u001b[K     |████████████████████████████████| 81 kB 9.2 MB/s \n",
            "\u001b[?25hCollecting cssselect>=0.9.2\n",
            "  Downloading cssselect-1.1.0-py2.py3-none-any.whl (16 kB)\n",
            "Requirement already satisfied: six in /usr/local/lib/python3.7/dist-packages (from feedfinder2>=0.0.4->newspaper3k) (1.15.0)\n",
            "Collecting sgmllib3k\n",
            "  Downloading sgmllib3k-1.0.0.tar.gz (5.8 kB)\n",
            "Requirement already satisfied: certifi>=2017.4.17 in /usr/local/lib/python3.7/dist-packages (from requests>=2.10.0->newspaper3k) (2021.10.8)\n",
            "Requirement already satisfied: urllib3!=1.25.0,!=1.25.1,<1.26,>=1.21.1 in /usr/local/lib/python3.7/dist-packages (from requests>=2.10.0->newspaper3k) (1.24.3)\n",
            "Requirement already satisfied: idna<3,>=2.5 in /usr/local/lib/python3.7/dist-packages (from requests>=2.10.0->newspaper3k) (2.10)\n",
            "Requirement already satisfied: chardet<4,>=3.0.2 in /usr/local/lib/python3.7/dist-packages (from requests>=2.10.0->newspaper3k) (3.0.4)\n",
            "Requirement already satisfied: filelock>=3.0.8 in /usr/local/lib/python3.7/dist-packages (from tldextract>=2.0.1->newspaper3k) (3.6.0)\n",
            "Collecting requests-file>=1.4\n",
            "  Downloading requests_file-1.5.1-py2.py3-none-any.whl (3.7 kB)\n",
            "Building wheels for collected packages: tinysegmenter, feedfinder2, jieba3k, sgmllib3k\n",
            "  Building wheel for tinysegmenter (setup.py) ... \u001b[?25l\u001b[?25hdone\n",
            "  Created wheel for tinysegmenter: filename=tinysegmenter-0.3-py3-none-any.whl size=13553 sha256=7e57a3fed239cf950b7b32d96e953eccc5963a04aab7c593de145157a830604f\n",
            "  Stored in directory: /root/.cache/pip/wheels/df/67/41/faca10fa501ca010be41b49d40360c2959e1c4f09bcbfa37fa\n",
            "  Building wheel for feedfinder2 (setup.py) ... \u001b[?25l\u001b[?25hdone\n",
            "  Created wheel for feedfinder2: filename=feedfinder2-0.0.4-py3-none-any.whl size=3357 sha256=7c680cc19ee8eea2c390d1f588e0c1afc82cd8543dc743911494de504cb6afed\n",
            "  Stored in directory: /root/.cache/pip/wheels/7f/d4/8f/6e2ca54744c9d7292d88ddb8d42876bcdab5e6d84a21c10346\n",
            "  Building wheel for jieba3k (setup.py) ... \u001b[?25l\u001b[?25hdone\n",
            "  Created wheel for jieba3k: filename=jieba3k-0.35.1-py3-none-any.whl size=7398404 sha256=83149fed7d7b46f48673f3b851e8e52f2d3ba04b0cf0f09df02d58502cb88c88\n",
            "  Stored in directory: /root/.cache/pip/wheels/4c/91/46/3c208287b726df325a5979574324878b679116e4baae1af3c3\n",
            "  Building wheel for sgmllib3k (setup.py) ... \u001b[?25l\u001b[?25hdone\n",
            "  Created wheel for sgmllib3k: filename=sgmllib3k-1.0.0-py3-none-any.whl size=6066 sha256=73fe898fb0560f853f0327e08c82e715ef5533f49bc64ab8e55e12d8abe7cb0d\n",
            "  Stored in directory: /root/.cache/pip/wheels/73/ad/a4/0dff4a6ef231fc0dfa12ffbac2a36cebfdddfe059f50e019aa\n",
            "Successfully built tinysegmenter feedfinder2 jieba3k sgmllib3k\n",
            "Installing collected packages: sgmllib3k, requests-file, tldextract, tinysegmenter, jieba3k, feedparser, feedfinder2, cssselect, newspaper3k\n",
            "Successfully installed cssselect-1.1.0 feedfinder2-0.0.4 feedparser-6.0.8 jieba3k-0.35.1 newspaper3k-0.2.8 requests-file-1.5.1 sgmllib3k-1.0.0 tinysegmenter-0.3 tldextract-3.2.0\n"
          ]
        }
      ]
    },
    {
      "cell_type": "code",
      "metadata": {
        "id": "8HNdnbrpYLFE"
      },
      "source": [
        "#import libraries\n",
        "from newspaper import Article\n",
        "import random\n",
        "import string\n",
        "from sklearn.feature_extraction.text import TfidfVectorizer\n",
        "from sklearn.metrics.pairwise import cosine_similarity\n",
        "import nltk\n",
        "import numpy as np\n",
        "import warnings"
      ],
      "execution_count": null,
      "outputs": []
    },
    {
      "cell_type": "code",
      "metadata": {
        "id": "5p1l0-CEc4BH"
      },
      "source": [
        "#Ignore any warning messages\n",
        "warnings.filterwarnings('ignore')"
      ],
      "execution_count": null,
      "outputs": []
    },
    {
      "cell_type": "code",
      "metadata": {
        "id": "QSfJgt5tdSdT",
        "colab": {
          "base_uri": "https://localhost:8080/"
        },
        "outputId": "002411d5-c8ea-4cc3-fbad-0de987c1ad3e"
      },
      "source": [
        "#Download the packeges from NLTK\n",
        "nltk.download('punkt', quiet=True)\n",
        "nltk.download('wordnet', quiet=True)"
      ],
      "execution_count": null,
      "outputs": [
        {
          "output_type": "execute_result",
          "data": {
            "text/plain": [
              "True"
            ]
          },
          "metadata": {},
          "execution_count": 9
        }
      ]
    },
    {
      "cell_type": "code",
      "metadata": {
        "id": "2Vx2uoYweF8o",
        "colab": {
          "base_uri": "https://localhost:8080/"
        },
        "outputId": "57b8cf26-cd4f-491e-d01f-b9192cee1199"
      },
      "source": [
        "#Get the article URL\n",
        "article = Article('https://www.niddk.nih.gov/health-information/kidney-disease/chronic-kidney-disease-ckd')\n",
        "article.download() #Download the article\n",
        "article.parse() #Parse the article\n",
        "article.nlp() #Apply Natural Language Processing (NLP)\n",
        "corpus = article.text #Store the article text into corpus\n",
        "print(corpus)"
      ],
      "execution_count": null,
      "outputs": [
        {
          "output_type": "stream",
          "name": "stdout",
          "text": [
            "Chronic kidney disease (CKD) means your kidneys are damaged and can’t filter blood the way they should. The main risk factors for developing kidney disease are diabetes, high blood pressure, heart disease, and a family history of kidney failure.\n",
            "\n",
            "Testing may be the only way to know if you have kidney disease. Get checked if you have diabetes, high blood pressure, heart disease, or a family history of kidney failure. The sooner you know you have kidney disease, the sooner you can get treatment.\n",
            "\n",
            "Diabetes and high blood pressure are the most common causes of kidney disease. Your health care provider may do tests to find out why you have kidney disease. The cause of your kidney disease may affect the type of treatment you receive.\n",
            "\n",
            "Eating the right foods can help keep your kidney disease from getting worse. Work with a dietitian to create a meal plan that includes foods that you enjoy eating while maintaining your kidney health.\n",
            "\n",
            "You can take steps to protect your kidneys. The most important step you can take to treat kidney disease is to control your blood pressure. Healthy habits can also help you manage your kidney disease.\n",
            "\n",
            "Kidney failure means that your kidneys have lost most of their ability to function. Work with your health care team and family to consider your options to replace your lost kidney function, such as dialysis or transplant. Choose a treatment that is right for you.\n",
            "\n",
            "You are at risk for kidney disease if you have diabetes, high blood pressure, heart disease, or a family history of kidney failure. If you have risk factors, get tested for kidney disease and protect your kidneys by making healthy food choices, being more active, aiming for a healthy weight, and managing health conditions that cause kidney damage.\n",
            "\n",
            "The National Institute of Diabetes and Digestive and Kidney Diseases (NIDDK) and other components of the National Institutes of Health (NIH) conduct and support research into many diseases and conditions.\n",
            "\n",
            "This content is provided as a service of the National Institute of Diabetes and Digestive and Kidney Diseases (NIDDK), part of the National Institutes of Health. The NIDDK translates and disseminates research findings to increase knowledge and understanding about health and disease among patients, health professionals, and the public. Content produced by the NIDDK is carefully reviewed by NIDDK scientists and other experts.\n",
            "\n",
            "\n"
          ]
        }
      ]
    },
    {
      "cell_type": "code",
      "metadata": {
        "id": "sZAH9oVRn63b",
        "colab": {
          "base_uri": "https://localhost:8080/"
        },
        "outputId": "f9b66003-cb2b-4dd0-f6ca-c0f982816f88"
      },
      "source": [
        "#Tokenization\n",
        "text = corpus\n",
        "sent_tokens = nltk.sent_tokenize(text)# txt to a list of sentences \n",
        "#Print the list of sentences\n",
        "print(sent_tokens)"
      ],
      "execution_count": null,
      "outputs": [
        {
          "output_type": "stream",
          "name": "stdout",
          "text": [
            "['Chronic kidney disease (CKD) means your kidneys are damaged and can’t filter blood the way they should.', 'The main risk factors for developing kidney disease are diabetes, high blood pressure, heart disease, and a family history of kidney failure.', 'Testing may be the only way to know if you have kidney disease.', 'Get checked if you have diabetes, high blood pressure, heart disease, or a family history of kidney failure.', 'The sooner you know you have kidney disease, the sooner you can get treatment.', 'Diabetes and high blood pressure are the most common causes of kidney disease.', 'Your health care provider may do tests to find out why you have kidney disease.', 'The cause of your kidney disease may affect the type of treatment you receive.', 'Eating the right foods can help keep your kidney disease from getting worse.', 'Work with a dietitian to create a meal plan that includes foods that you enjoy eating while maintaining your kidney health.', 'You can take steps to protect your kidneys.', 'The most important step you can take to treat kidney disease is to control your blood pressure.', 'Healthy habits can also help you manage your kidney disease.', 'Kidney failure means that your kidneys have lost most of their ability to function.', 'Work with your health care team and family to consider your options to replace your lost kidney function, such as dialysis or transplant.', 'Choose a treatment that is right for you.', 'You are at risk for kidney disease if you have diabetes, high blood pressure, heart disease, or a family history of kidney failure.', 'If you have risk factors, get tested for kidney disease and protect your kidneys by making healthy food choices, being more active, aiming for a healthy weight, and managing health conditions that cause kidney damage.', 'The National Institute of Diabetes and Digestive and Kidney Diseases (NIDDK) and other components of the National Institutes of Health (NIH) conduct and support research into many diseases and conditions.', 'This content is provided as a service of the National Institute of Diabetes and Digestive and Kidney Diseases (NIDDK), part of the National Institutes of Health.', 'The NIDDK translates and disseminates research findings to increase knowledge and understanding about health and disease among patients, health professionals, and the public.', 'Content produced by the NIDDK is carefully reviewed by NIDDK scientists and other experts.']\n"
          ]
        }
      ]
    },
    {
      "cell_type": "code",
      "metadata": {
        "id": "UuMcNuHVoSEG",
        "colab": {
          "base_uri": "https://localhost:8080/"
        },
        "outputId": "2b214002-fa55-4dbb-f284-07c5fab5584a"
      },
      "source": [
        "#Create a dictionary (key:value pair) to remove punctuations  \n",
        "remove_punct_dict = dict(  (ord(punct), None) for punct in string.punctuation)\n",
        "print(string.punctuation)\n",
        "\n",
        "print(remove_punct_dict)\n",
        "\n"
      ],
      "execution_count": null,
      "outputs": [
        {
          "output_type": "stream",
          "name": "stdout",
          "text": [
            "!\"#$%&'()*+,-./:;<=>?@[\\]^_`{|}~\n",
            "{33: None, 34: None, 35: None, 36: None, 37: None, 38: None, 39: None, 40: None, 41: None, 42: None, 43: None, 44: None, 45: None, 46: None, 47: None, 58: None, 59: None, 60: None, 61: None, 62: None, 63: None, 64: None, 91: None, 92: None, 93: None, 94: None, 95: None, 96: None, 123: None, 124: None, 125: None, 126: None}\n"
          ]
        }
      ]
    },
    {
      "cell_type": "code",
      "metadata": {
        "id": "_P3209z0qD05",
        "colab": {
          "base_uri": "https://localhost:8080/"
        },
        "outputId": "d99a4c5c-163a-4972-9fd2-d819471d2aff"
      },
      "source": [
        "#Create a function to return a list of lemmatized lower case words after removing punctuations \n",
        "def LemNormalize(text):\n",
        "  return nltk.word_tokenize(text.lower().translate(remove_punct_dict))\n",
        "print(LemNormalize(text))"
      ],
      "execution_count": null,
      "outputs": [
        {
          "output_type": "stream",
          "name": "stdout",
          "text": [
            "['chronic', 'kidney', 'disease', 'ckd', 'means', 'your', 'kidneys', 'are', 'damaged', 'and', 'can', '’', 't', 'filter', 'blood', 'the', 'way', 'they', 'should', 'the', 'main', 'risk', 'factors', 'for', 'developing', 'kidney', 'disease', 'are', 'diabetes', 'high', 'blood', 'pressure', 'heart', 'disease', 'and', 'a', 'family', 'history', 'of', 'kidney', 'failure', 'testing', 'may', 'be', 'the', 'only', 'way', 'to', 'know', 'if', 'you', 'have', 'kidney', 'disease', 'get', 'checked', 'if', 'you', 'have', 'diabetes', 'high', 'blood', 'pressure', 'heart', 'disease', 'or', 'a', 'family', 'history', 'of', 'kidney', 'failure', 'the', 'sooner', 'you', 'know', 'you', 'have', 'kidney', 'disease', 'the', 'sooner', 'you', 'can', 'get', 'treatment', 'diabetes', 'and', 'high', 'blood', 'pressure', 'are', 'the', 'most', 'common', 'causes', 'of', 'kidney', 'disease', 'your', 'health', 'care', 'provider', 'may', 'do', 'tests', 'to', 'find', 'out', 'why', 'you', 'have', 'kidney', 'disease', 'the', 'cause', 'of', 'your', 'kidney', 'disease', 'may', 'affect', 'the', 'type', 'of', 'treatment', 'you', 'receive', 'eating', 'the', 'right', 'foods', 'can', 'help', 'keep', 'your', 'kidney', 'disease', 'from', 'getting', 'worse', 'work', 'with', 'a', 'dietitian', 'to', 'create', 'a', 'meal', 'plan', 'that', 'includes', 'foods', 'that', 'you', 'enjoy', 'eating', 'while', 'maintaining', 'your', 'kidney', 'health', 'you', 'can', 'take', 'steps', 'to', 'protect', 'your', 'kidneys', 'the', 'most', 'important', 'step', 'you', 'can', 'take', 'to', 'treat', 'kidney', 'disease', 'is', 'to', 'control', 'your', 'blood', 'pressure', 'healthy', 'habits', 'can', 'also', 'help', 'you', 'manage', 'your', 'kidney', 'disease', 'kidney', 'failure', 'means', 'that', 'your', 'kidneys', 'have', 'lost', 'most', 'of', 'their', 'ability', 'to', 'function', 'work', 'with', 'your', 'health', 'care', 'team', 'and', 'family', 'to', 'consider', 'your', 'options', 'to', 'replace', 'your', 'lost', 'kidney', 'function', 'such', 'as', 'dialysis', 'or', 'transplant', 'choose', 'a', 'treatment', 'that', 'is', 'right', 'for', 'you', 'you', 'are', 'at', 'risk', 'for', 'kidney', 'disease', 'if', 'you', 'have', 'diabetes', 'high', 'blood', 'pressure', 'heart', 'disease', 'or', 'a', 'family', 'history', 'of', 'kidney', 'failure', 'if', 'you', 'have', 'risk', 'factors', 'get', 'tested', 'for', 'kidney', 'disease', 'and', 'protect', 'your', 'kidneys', 'by', 'making', 'healthy', 'food', 'choices', 'being', 'more', 'active', 'aiming', 'for', 'a', 'healthy', 'weight', 'and', 'managing', 'health', 'conditions', 'that', 'cause', 'kidney', 'damage', 'the', 'national', 'institute', 'of', 'diabetes', 'and', 'digestive', 'and', 'kidney', 'diseases', 'niddk', 'and', 'other', 'components', 'of', 'the', 'national', 'institutes', 'of', 'health', 'nih', 'conduct', 'and', 'support', 'research', 'into', 'many', 'diseases', 'and', 'conditions', 'this', 'content', 'is', 'provided', 'as', 'a', 'service', 'of', 'the', 'national', 'institute', 'of', 'diabetes', 'and', 'digestive', 'and', 'kidney', 'diseases', 'niddk', 'part', 'of', 'the', 'national', 'institutes', 'of', 'health', 'the', 'niddk', 'translates', 'and', 'disseminates', 'research', 'findings', 'to', 'increase', 'knowledge', 'and', 'understanding', 'about', 'health', 'and', 'disease', 'among', 'patients', 'health', 'professionals', 'and', 'the', 'public', 'content', 'produced', 'by', 'the', 'niddk', 'is', 'carefully', 'reviewed', 'by', 'niddk', 'scientists', 'and', 'other', 'experts']\n"
          ]
        }
      ]
    },
    {
      "cell_type": "code",
      "metadata": {
        "id": "ekBVxWO9q2aS"
      },
      "source": [
        "# Keyword Matching\n",
        "#Greeting input from the user\n",
        "GREETING_INPUTS = [\"hi\", \"hello\",  \"hola\", \"greetings\",  \"wassup\",\"hey\"] \n",
        "#Greeting responses back to the user\n",
        "GREETING_RESPONSES = [\"how can i help you?\", \"hey\", \"what's good\",  \"hello\",\"hey there\"]\n",
        "#Function to return a random greeting response to a users greeting\n",
        "def greeting(sentence):\n",
        "   #If user's input is a greeting, return a randomly chosen greeting response\n",
        "    for word in sentence.split():\n",
        "        if word.lower() in GREETING_INPUTS:\n",
        "            return random.choice(GREETING_RESPONSES)"
      ],
      "execution_count": null,
      "outputs": []
    },
    {
      "cell_type": "code",
      "metadata": {
        "id": "RIrFaHwXtpY7"
      },
      "source": [
        "#Generate the response\n",
        "def response(user_response):\n",
        "  \n",
        "\n",
        "  #The users response / query\n",
        "  #user_response = 'What is chronic kidney disease'\n",
        "\n",
        "  user_response = user_response.lower() #Make the response lower case\n",
        "\n",
        "  ###Print the users query/ response\n",
        "  #print(user_response)\n",
        "\n",
        "  #Set the chatbot response to an empty string\n",
        "  robo_response = ''\n",
        "\n",
        "  #Append the users response to the sentence list\n",
        "  sent_tokens.append(user_response)\n",
        "\n",
        "  ###Print the sentence list after appending the users response\n",
        "  #print(sent_tokens)\n",
        "\n",
        "  #Create a TfidfVectorizer Object\n",
        "  TfidfVec = TfidfVectorizer(tokenizer = LemNormalize, stop_words='english')\n",
        "\n",
        "  #Convert the text to a matrix of TF-IDF features\n",
        "  tfidf = TfidfVec.fit_transform(sent_tokens)\n",
        "\n",
        "  ###Print the TFIDF features\n",
        "  #print(tfidf)\n",
        "\n",
        "  #Get the measure of similarity (similarity scores)\n",
        "  vals = cosine_similarity(tfidf[-1], tfidf)\n",
        "\n",
        "  #Print the similarity scores\n",
        "  #print(vals)\n",
        "\n",
        "  #Get the index of the most similar text/sentence to the users response\n",
        "  idx = vals.argsort()[0][-2]\n",
        "\n",
        "  #Reduce the dimensionality of vals\n",
        "  flat = vals.flatten()\n",
        "\n",
        "  #sort the list in ascending order\n",
        "  flat.sort()\n",
        "\n",
        "  #Get the most similar score to the users response\n",
        "  score = flat[-2]\n",
        "\n",
        "  #Print the similarity score\n",
        "  #print(score)\n",
        "\n",
        "  #If the variable 'score' is 0 then their is no text similar to the users response\n",
        "  if(score == 0):\n",
        "    robo_response = robo_response+\"I apologize, I don't understand.\"\n",
        "  else:\n",
        "    robo_response = robo_response+sent_tokens[idx]\n",
        "  \n",
        "  #Print the chat bot response\n",
        "  #print(robo_response)\n",
        "  \n",
        "  #Remove the users response from the sentence tokens list\n",
        "  sent_tokens.remove(user_response)\n",
        "  \n",
        "  return robo_response"
      ],
      "execution_count": null,
      "outputs": []
    },
    {
      "cell_type": "code",
      "metadata": {
        "id": "i8opio1dwVsw",
        "colab": {
          "base_uri": "https://localhost:8080/"
        },
        "outputId": "bec0c8b5-07c3-4541-fb6d-ba53d4277d3e"
      },
      "source": [
        "flag = True\n",
        "print(\"DOCBot: I am Doctor Bot or DOCBot for short. I will answer your queries about Chronic Kidney Disease. If you want to exit, type Bye!\")\n",
        "while(flag == True):\n",
        "  user_response = input()\n",
        "  user_response = user_response.lower()\n",
        "  if(user_response != 'bye'):\n",
        "    if(user_response == 'thanks' or user_response =='thank you'):\n",
        "      flag=False\n",
        "      print(\"DOCBot: You are welcome !\")\n",
        "    else:\n",
        "      if(greeting(user_response) != None):\n",
        "        print(\"DOCBot: \"+greeting(user_response))\n",
        "      else:\n",
        "        print(\"DOCBot: \"+response(user_response))       \n",
        "  else:\n",
        "    flag = False\n",
        "    print(\"DOCBot: Chat with you later !\")"
      ],
      "execution_count": null,
      "outputs": [
        {
          "output_type": "stream",
          "name": "stdout",
          "text": [
            "DOCBot: I am Doctor Bot or DOCBot for short. I will answer your queries about Chronic Kidney Disease. If you want to exit, type Bye!\n",
            "hello\n",
            "DOCBot: what's good\n",
            "what is Chronic Kidney Disease?\n",
            "DOCBot: Chronic kidney disease (CKD) means your kidneys are damaged and can’t filter blood the way they should.\n",
            "is it dangerous? \n",
            "DOCBot: I apologize, I don't understand.\n",
            "what are it's causes? \n",
            "DOCBot: Diabetes and high blood pressure are the most common causes of kidney disease.\n",
            "is there any clinical trails? \n",
            "DOCBot: I apologize, I don't understand.\n",
            "is there any clinical trials?\n",
            "DOCBot: I apologize, I don't understand.\n",
            "What if My Kidneys Fail?\n",
            "DOCBot: You can take steps to protect your kidneys.\n",
            "Preventing Chronic Kidney Disease\n",
            "DOCBot: Chronic kidney disease (CKD) means your kidneys are damaged and can’t filter blood the way they should.\n",
            "thank you\n",
            "DOCBot: You are welcome !\n"
          ]
        }
      ]
    },
    {
      "cell_type": "markdown",
      "metadata": {
        "id": "h8LsKrtrcEyO"
      },
      "source": [
        "# New Section"
      ]
    }
  ]
}